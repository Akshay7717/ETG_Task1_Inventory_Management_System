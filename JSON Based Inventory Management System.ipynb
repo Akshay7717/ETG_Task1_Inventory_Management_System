{
 "cells": [
  {
   "cell_type": "code",
   "execution_count": 85,
   "metadata": {},
   "outputs": [],
   "source": [
    "record = {\"1001\": {\"name\": \"Choco Cake\", \"qn\": 34, \"pr\": 100},\n",
    "          \"1002\": {\"name\": \"Milk Cake\", \"pr\": 800, \"qn\": 100}, \n",
    "          \"1003\": {\"name\": \"Drink\", \"pr\": 85, \"qn\": 100}, \n",
    "          \"1004\": {\"name\": \"Candy\", \"pr\": 5, \"qn\": 1000}, \n",
    "          \"1005\": {\"name\": \"Pen\", \"pr\": 20, \"qn\": 100}, \n",
    "          \"1006\": {\"name\": \"Phone\", \"pr\": 50000, \"qn\": 10},\n",
    "          \"1007\": {\"name\": \"Coffee\", \"pr\": 65, \"qn\": 20},\n",
    "          \"1008\": {\"name\": \"ICE Creame\", \"pr\": 60, \"qn\": 30},\n",
    "          \"1009\": {\"name\": \"Nailcutter\", \"pr\": 35, \"qn\": 100},\n",
    "          \"1010\": {\"name\": \"Pepsi\", \"pr\": 50, \"qn\": 100},\n",
    "          \"1011\": {\"name\": \"Coca Cola\", \"pr\": 50, \"qn\": 50},\n",
    "          \"1012\": {\"name\": \"Headphones\", \"pr\": 300, \"qn\": 30},\n",
    "          \"1013\": {\"name\": \"Pensil\", \"pr\": 15, \"qn\": 100},\n",
    "          \"1014\": {\"name\": \"Rubber\", \"pr\": 10, \"qn\": 1000},\n",
    "          \"1015\": {\"name\": \"Dairymilk\", \"pr\": 40, \"qn\": 100},\n",
    "          \"1016\": {\"name\": \"Kitkat\", \"pr\": 20, \"qn\": 100},\n",
    "          \"1017\": {\"name\": \"Munch\", \"pr\": 20, \"qn\": 100},\n",
    "          \"1018\": {\"name\": \"Colin\", \"pr\": 60, \"qn\": 100},\n",
    "          \"1019\": {\"name\": \"Hamam soap\", \"pr\": 25, \"qn\": 100},\n",
    "          \"1020\": {\"name\": \"Jocky\", \"pr\": 375, \"qn\": 100},\n",
    "          \"1021\": {\"name\": \"Heaters\", \"pr\": 400, \"qn\": 100},\n",
    "          \"1022\": {\"name\": \"Dove\", \"pr\": 10, \"qn\": 100},\n",
    "          \"1023\": {\"name\": \"Santoor\", \"pr\": 20, \"qn\": 100},\n",
    "          \"1024\": {\"name\": \"Rin\", \"pr\": 20, \"qn\": 100},\n",
    "          \"1025\": {\"name\": \"Rin Powder\", \"pr\": 40, \"qn\": 50},\n",
    "          \"1026\": {\"name\": \"Garbage bags\", \"pr\": 65, \"qn\": 100},\n",
    "          \"1027\": {\"name\": \"Door Mat\", \"pr\": 120, \"qn\": 100},\n",
    "          \"1028\": {\"name\": \"School Bags\", \"pr\": 400, \"qn\": 50},\n",
    "          \"1029\": {\"name\": \"Towels\", \"pr\": 80, \"qn\": 100},\n",
    "          \"1030\": {\"name\": \"Charges\", \"pr\": 250, \"qn\": 100}\n",
    "         }\n",
    "           "
   ]
  },
  {
   "cell_type": "code",
   "execution_count": 86,
   "metadata": {},
   "outputs": [
    {
     "data": {
      "text/plain": [
       "{'1001': {'name': 'Choco Cake', 'qn': 34, 'pr': 100},\n",
       " '1002': {'name': 'Milk Cake', 'pr': 800, 'qn': 100},\n",
       " '1003': {'name': 'Drink', 'pr': 85, 'qn': 100},\n",
       " '1004': {'name': 'Candy', 'pr': 5, 'qn': 1000},\n",
       " '1005': {'name': 'Pen', 'pr': 20, 'qn': 100},\n",
       " '1006': {'name': 'Phone', 'pr': 50000, 'qn': 10},\n",
       " '1007': {'name': 'Coffee', 'pr': 65, 'qn': 20},\n",
       " '1008': {'name': 'ICE Creame', 'pr': 60, 'qn': 30},\n",
       " '1009': {'name': 'Nailcutter', 'pr': 35, 'qn': 100},\n",
       " '1010': {'name': 'Pepsi', 'pr': 50, 'qn': 100},\n",
       " '1011': {'name': 'Coca Cola', 'pr': 50, 'qn': 50},\n",
       " '1012': {'name': 'Headphones', 'pr': 300, 'qn': 30},\n",
       " '1013': {'name': 'Pensil', 'pr': 15, 'qn': 100},\n",
       " '1014': {'name': 'Rubber', 'pr': 10, 'qn': 1000},\n",
       " '1015': {'name': 'Dairymilk', 'pr': 40, 'qn': 100},\n",
       " '1016': {'name': 'Kitkat', 'pr': 20, 'qn': 100},\n",
       " '1017': {'name': 'Munch', 'pr': 20, 'qn': 100},\n",
       " '1018': {'name': 'Colin', 'pr': 60, 'qn': 100},\n",
       " '1019': {'name': 'Hamam soap', 'pr': 25, 'qn': 100},\n",
       " '1020': {'name': 'Jocky', 'pr': 375, 'qn': 100},\n",
       " '1021': {'name': 'Heaters', 'pr': 400, 'qn': 100},\n",
       " '1022': {'name': 'Dove', 'pr': 10, 'qn': 100},\n",
       " '1023': {'name': 'Santoor', 'pr': 20, 'qn': 100},\n",
       " '1024': {'name': 'Rin', 'pr': 20, 'qn': 100},\n",
       " '1025': {'name': 'Rin Powder', 'pr': 40, 'qn': 50},\n",
       " '1026': {'name': 'Garbage bags', 'pr': 65, 'qn': 100},\n",
       " '1027': {'name': 'Door Mat', 'pr': 120, 'qn': 100},\n",
       " '1028': {'name': 'School Bags', 'pr': 400, 'qn': 50},\n",
       " '1029': {'name': 'Towels', 'pr': 80, 'qn': 100},\n",
       " '1030': {'name': 'Charges', 'pr': 250, 'qn': 100}}"
      ]
     },
     "execution_count": 86,
     "metadata": {},
     "output_type": "execute_result"
    }
   ],
   "source": [
    "record\n"
   ]
  },
  {
   "cell_type": "code",
   "execution_count": 87,
   "metadata": {},
   "outputs": [],
   "source": [
    "import json\n",
    "\n",
    "js = json.dumps(record)"
   ]
  },
  {
   "cell_type": "code",
   "execution_count": 88,
   "metadata": {},
   "outputs": [],
   "source": [
    "fd = open(\"record.json\",'w')\n",
    "r = fd.write(js)\n",
    "fd.close()\n"
   ]
  },
  {
   "cell_type": "code",
   "execution_count": 89,
   "metadata": {},
   "outputs": [],
   "source": [
    "fd = open(\"record.json\",'r')\n",
    "r = fd.read()\n",
    "fd.close()\n",
    "\n",
    "record = json.loads(r)\n"
   ]
  },
  {
   "cell_type": "code",
   "execution_count": 90,
   "metadata": {},
   "outputs": [
    {
     "data": {
      "text/plain": [
       "{'1001': {'name': 'Choco Cake', 'qn': 34, 'pr': 100},\n",
       " '1002': {'name': 'Milk Cake', 'pr': 800, 'qn': 100},\n",
       " '1003': {'name': 'Drink', 'pr': 85, 'qn': 100},\n",
       " '1004': {'name': 'Candy', 'pr': 5, 'qn': 1000},\n",
       " '1005': {'name': 'Pen', 'pr': 20, 'qn': 100},\n",
       " '1006': {'name': 'Phone', 'pr': 50000, 'qn': 10},\n",
       " '1007': {'name': 'Coffee', 'pr': 65, 'qn': 20},\n",
       " '1008': {'name': 'ICE Creame', 'pr': 60, 'qn': 30},\n",
       " '1009': {'name': 'Nailcutter', 'pr': 35, 'qn': 100},\n",
       " '1010': {'name': 'Pepsi', 'pr': 50, 'qn': 100},\n",
       " '1011': {'name': 'Coca Cola', 'pr': 50, 'qn': 50},\n",
       " '1012': {'name': 'Headphones', 'pr': 300, 'qn': 30},\n",
       " '1013': {'name': 'Pensil', 'pr': 15, 'qn': 100},\n",
       " '1014': {'name': 'Rubber', 'pr': 10, 'qn': 1000},\n",
       " '1015': {'name': 'Dairymilk', 'pr': 40, 'qn': 100},\n",
       " '1016': {'name': 'Kitkat', 'pr': 20, 'qn': 100},\n",
       " '1017': {'name': 'Munch', 'pr': 20, 'qn': 100},\n",
       " '1018': {'name': 'Colin', 'pr': 60, 'qn': 100},\n",
       " '1019': {'name': 'Hamam soap', 'pr': 25, 'qn': 100},\n",
       " '1020': {'name': 'Jocky', 'pr': 375, 'qn': 100},\n",
       " '1021': {'name': 'Heaters', 'pr': 400, 'qn': 100},\n",
       " '1022': {'name': 'Dove', 'pr': 10, 'qn': 100},\n",
       " '1023': {'name': 'Santoor', 'pr': 20, 'qn': 100},\n",
       " '1024': {'name': 'Rin', 'pr': 20, 'qn': 100},\n",
       " '1025': {'name': 'Rin Powder', 'pr': 40, 'qn': 50},\n",
       " '1026': {'name': 'Garbage bags', 'pr': 65, 'qn': 100},\n",
       " '1027': {'name': 'Door Mat', 'pr': 120, 'qn': 100},\n",
       " '1028': {'name': 'School Bags', 'pr': 400, 'qn': 50},\n",
       " '1029': {'name': 'Towels', 'pr': 80, 'qn': 100},\n",
       " '1030': {'name': 'Charges', 'pr': 250, 'qn': 100}}"
      ]
     },
     "execution_count": 90,
     "metadata": {},
     "output_type": "execute_result"
    }
   ],
   "source": [
    "record\n"
   ]
  },
  {
   "cell_type": "code",
   "execution_count": 91,
   "metadata": {},
   "outputs": [
    {
     "name": "stdout",
     "output_type": "stream",
     "text": [
      "Have you want to add any item in Inventry.?[y->yes;n->no]: y\n",
      "Enter product id:1032\n",
      "Enter name:mobile cover\n",
      "Enter price:210\n",
      "Enter quantity:20\n"
     ]
    }
   ],
   "source": [
    "\n",
    "ask = str(input(\"Have you want to add any item in Inventry.?\"\n",
    "             \"[y->yes;n->no]: \"))\n",
    "if (ask == 'y'):\n",
    "\n",
    "        prod_id = str(input(\"Enter product id:\"))\n",
    "        name = str(input(\"Enter name:\"))\n",
    "        pr = int(input(\"Enter price:\"))\n",
    "        qn = int(input(\"Enter quantity:\"))\n",
    "        record[prod_id] = {'name': name, 'pr': pr, 'qn': qn}\n",
    "        js = json.dumps(record)\n",
    "        fd = open(\"record.json\",'w')\n",
    "        fd.write(js)\n",
    "        fd.close()\n",
    "else:\n",
    "        print(\"You are Not Interested To add any item in Inventr.!\")\n",
    "    "
   ]
  },
  {
   "cell_type": "code",
   "execution_count": 92,
   "metadata": {},
   "outputs": [
    {
     "data": {
      "text/plain": [
       "{'1001': {'name': 'Choco Cake', 'qn': 34, 'pr': 100},\n",
       " '1002': {'name': 'Milk Cake', 'pr': 800, 'qn': 100},\n",
       " '1003': {'name': 'Drink', 'pr': 85, 'qn': 100},\n",
       " '1004': {'name': 'Candy', 'pr': 5, 'qn': 1000},\n",
       " '1005': {'name': 'Pen', 'pr': 20, 'qn': 100},\n",
       " '1006': {'name': 'Phone', 'pr': 50000, 'qn': 10},\n",
       " '1007': {'name': 'Coffee', 'pr': 65, 'qn': 20},\n",
       " '1008': {'name': 'ICE Creame', 'pr': 60, 'qn': 30},\n",
       " '1009': {'name': 'Nailcutter', 'pr': 35, 'qn': 100},\n",
       " '1010': {'name': 'Pepsi', 'pr': 50, 'qn': 100},\n",
       " '1011': {'name': 'Coca Cola', 'pr': 50, 'qn': 50},\n",
       " '1012': {'name': 'Headphones', 'pr': 300, 'qn': 30},\n",
       " '1013': {'name': 'Pensil', 'pr': 15, 'qn': 100},\n",
       " '1014': {'name': 'Rubber', 'pr': 10, 'qn': 1000},\n",
       " '1015': {'name': 'Dairymilk', 'pr': 40, 'qn': 100},\n",
       " '1016': {'name': 'Kitkat', 'pr': 20, 'qn': 100},\n",
       " '1017': {'name': 'Munch', 'pr': 20, 'qn': 100},\n",
       " '1018': {'name': 'Colin', 'pr': 60, 'qn': 100},\n",
       " '1019': {'name': 'Hamam soap', 'pr': 25, 'qn': 100},\n",
       " '1020': {'name': 'Jocky', 'pr': 375, 'qn': 100},\n",
       " '1021': {'name': 'Heaters', 'pr': 400, 'qn': 100},\n",
       " '1022': {'name': 'Dove', 'pr': 10, 'qn': 100},\n",
       " '1023': {'name': 'Santoor', 'pr': 20, 'qn': 100},\n",
       " '1024': {'name': 'Rin', 'pr': 20, 'qn': 100},\n",
       " '1025': {'name': 'Rin Powder', 'pr': 40, 'qn': 50},\n",
       " '1026': {'name': 'Garbage bags', 'pr': 65, 'qn': 100},\n",
       " '1027': {'name': 'Door Mat', 'pr': 120, 'qn': 100},\n",
       " '1028': {'name': 'School Bags', 'pr': 400, 'qn': 50},\n",
       " '1029': {'name': 'Towels', 'pr': 80, 'qn': 100},\n",
       " '1030': {'name': 'Charges', 'pr': 250, 'qn': 100},\n",
       " '1032': {'name': 'mobile cover', 'pr': 210, 'qn': 20}}"
      ]
     },
     "execution_count": 92,
     "metadata": {},
     "output_type": "execute_result"
    }
   ],
   "source": [
    "record\n"
   ]
  },
  {
   "cell_type": "code",
   "execution_count": 93,
   "metadata": {},
   "outputs": [],
   "source": [
    "\n",
    "del record['1001']\n"
   ]
  },
  {
   "cell_type": "code",
   "execution_count": 94,
   "metadata": {},
   "outputs": [
    {
     "data": {
      "text/plain": [
       "{'1002': {'name': 'Milk Cake', 'pr': 800, 'qn': 100},\n",
       " '1003': {'name': 'Drink', 'pr': 85, 'qn': 100},\n",
       " '1004': {'name': 'Candy', 'pr': 5, 'qn': 1000},\n",
       " '1005': {'name': 'Pen', 'pr': 20, 'qn': 100},\n",
       " '1006': {'name': 'Phone', 'pr': 50000, 'qn': 10},\n",
       " '1007': {'name': 'Coffee', 'pr': 65, 'qn': 20},\n",
       " '1008': {'name': 'ICE Creame', 'pr': 60, 'qn': 30},\n",
       " '1009': {'name': 'Nailcutter', 'pr': 35, 'qn': 100},\n",
       " '1010': {'name': 'Pepsi', 'pr': 50, 'qn': 100},\n",
       " '1011': {'name': 'Coca Cola', 'pr': 50, 'qn': 50},\n",
       " '1012': {'name': 'Headphones', 'pr': 300, 'qn': 30},\n",
       " '1013': {'name': 'Pensil', 'pr': 15, 'qn': 100},\n",
       " '1014': {'name': 'Rubber', 'pr': 10, 'qn': 1000},\n",
       " '1015': {'name': 'Dairymilk', 'pr': 40, 'qn': 100},\n",
       " '1016': {'name': 'Kitkat', 'pr': 20, 'qn': 100},\n",
       " '1017': {'name': 'Munch', 'pr': 20, 'qn': 100},\n",
       " '1018': {'name': 'Colin', 'pr': 60, 'qn': 100},\n",
       " '1019': {'name': 'Hamam soap', 'pr': 25, 'qn': 100},\n",
       " '1020': {'name': 'Jocky', 'pr': 375, 'qn': 100},\n",
       " '1021': {'name': 'Heaters', 'pr': 400, 'qn': 100},\n",
       " '1022': {'name': 'Dove', 'pr': 10, 'qn': 100},\n",
       " '1023': {'name': 'Santoor', 'pr': 20, 'qn': 100},\n",
       " '1024': {'name': 'Rin', 'pr': 20, 'qn': 100},\n",
       " '1025': {'name': 'Rin Powder', 'pr': 40, 'qn': 50},\n",
       " '1026': {'name': 'Garbage bags', 'pr': 65, 'qn': 100},\n",
       " '1027': {'name': 'Door Mat', 'pr': 120, 'qn': 100},\n",
       " '1028': {'name': 'School Bags', 'pr': 400, 'qn': 50},\n",
       " '1029': {'name': 'Towels', 'pr': 80, 'qn': 100},\n",
       " '1030': {'name': 'Charges', 'pr': 250, 'qn': 100},\n",
       " '1032': {'name': 'mobile cover', 'pr': 210, 'qn': 20}}"
      ]
     },
     "execution_count": 94,
     "metadata": {},
     "output_type": "execute_result"
    }
   ],
   "source": [
    "record\n"
   ]
  },
  {
   "cell_type": "code",
   "execution_count": 99,
   "metadata": {},
   "outputs": [
    {
     "name": "stdout",
     "output_type": "stream",
     "text": [
      "Enter Some Information regarding product which you want to buy.\n",
      "Enter the product_Id: 1032\n",
      "Enter the quantity: 1\n",
      "Product:  mobile cover\n",
      "Price:  210\n",
      "Billing Amount:  210\n"
     ]
    }
   ],
   "source": [
    "\n",
    "print(\"Enter Some Information regarding product which you want to buy.\")\n",
    "\n",
    "ui_prod  = str(input(\"Enter the product_Id: \"))\n",
    "ui_quant = int(input(\"Enter the quantity: \"))\n",
    "\n",
    "\n",
    "print(\"Product: \", record[ui_prod]['name'])\n",
    "print(\"Price: \", record[ui_prod]['pr'])\n",
    "print(\"Billing Amount: \", record[ui_prod]['pr'] * ui_quant)\n",
    "\n",
    "record[ui_prod]['qn'] = record[ui_prod]['qn'] - ui_quant"
   ]
  },
  {
   "cell_type": "code",
   "execution_count": 100,
   "metadata": {},
   "outputs": [],
   "source": [
    "js = json.dumps(record)\n",
    "\n",
    "fd = open(\"record.json\",'w')\n",
    "fd.write(js)\n",
    "fd.close()"
   ]
  },
  {
   "cell_type": "code",
   "execution_count": 101,
   "metadata": {},
   "outputs": [
    {
     "data": {
      "text/plain": [
       "{'1002': {'name': 'Milk Cake', 'pr': 800, 'qn': 100},\n",
       " '1003': {'name': 'Drink', 'pr': 85, 'qn': 100},\n",
       " '1004': {'name': 'Candy', 'pr': 5, 'qn': 1000},\n",
       " '1005': {'name': 'Pen', 'pr': 20, 'qn': 100},\n",
       " '1006': {'name': 'Phone', 'pr': 50000, 'qn': 10},\n",
       " '1007': {'name': 'Coffee', 'pr': 65, 'qn': 20},\n",
       " '1008': {'name': 'ICE Creame', 'pr': 60, 'qn': 30},\n",
       " '1009': {'name': 'Nailcutter', 'pr': 35, 'qn': 100},\n",
       " '1010': {'name': 'Pepsi', 'pr': 50, 'qn': 100},\n",
       " '1011': {'name': 'Coca Cola', 'pr': 50, 'qn': 48},\n",
       " '1012': {'name': 'Headphones', 'pr': 300, 'qn': 30},\n",
       " '1013': {'name': 'Pensil', 'pr': 15, 'qn': 100},\n",
       " '1014': {'name': 'Rubber', 'pr': 10, 'qn': 1000},\n",
       " '1015': {'name': 'Dairymilk', 'pr': 40, 'qn': 100},\n",
       " '1016': {'name': 'Kitkat', 'pr': 20, 'qn': 100},\n",
       " '1017': {'name': 'Munch', 'pr': 20, 'qn': 100},\n",
       " '1018': {'name': 'Colin', 'pr': 60, 'qn': 100},\n",
       " '1019': {'name': 'Hamam soap', 'pr': 25, 'qn': 100},\n",
       " '1020': {'name': 'Jocky', 'pr': 375, 'qn': 100},\n",
       " '1021': {'name': 'Heaters', 'pr': 400, 'qn': 100},\n",
       " '1022': {'name': 'Dove', 'pr': 10, 'qn': 100},\n",
       " '1023': {'name': 'Santoor', 'pr': 20, 'qn': 100},\n",
       " '1024': {'name': 'Rin', 'pr': 20, 'qn': 100},\n",
       " '1025': {'name': 'Rin Powder', 'pr': 40, 'qn': 50},\n",
       " '1026': {'name': 'Garbage bags', 'pr': 65, 'qn': 100},\n",
       " '1027': {'name': 'Door Mat', 'pr': 120, 'qn': 100},\n",
       " '1028': {'name': 'School Bags', 'pr': 400, 'qn': 50},\n",
       " '1029': {'name': 'Towels', 'pr': 80, 'qn': 100},\n",
       " '1030': {'name': 'Charges', 'pr': 250, 'qn': 100},\n",
       " '1032': {'name': 'mobile cover', 'pr': 210, 'qn': 17}}"
      ]
     },
     "execution_count": 101,
     "metadata": {},
     "output_type": "execute_result"
    }
   ],
   "source": [
    "record\n"
   ]
  },
  {
   "cell_type": "code",
   "execution_count": 102,
   "metadata": {},
   "outputs": [
    {
     "data": {
      "text/plain": [
       "{'prod': '1032', 'qn': 1, 'amount': 210}"
      ]
     },
     "execution_count": 102,
     "metadata": {},
     "output_type": "execute_result"
    }
   ],
   "source": [
    "{'prod' : ui_prod, 'qn' : ui_quant, 'amount': record[ui_prod]['pr'] * ui_quant}\n"
   ]
  },
  {
   "cell_type": "code",
   "execution_count": 103,
   "metadata": {},
   "outputs": [],
   "source": [
    "sales = {1 : {'prod' : ui_prod, 'qn' : ui_quant, 'amount': record[ui_prod]['pr'] * ui_quant},\n",
    "         2 : {'prod' : ui_prod, 'qn' : ui_quant, 'amount': record[ui_prod]['pr'] * ui_quant},\n",
    "         3 : {'prod' : ui_prod, 'qn' : ui_quant, 'amount': record[ui_prod]['pr'] * ui_quant}}"
   ]
  },
  {
   "cell_type": "code",
   "execution_count": 104,
   "metadata": {},
   "outputs": [],
   "source": [
    "sale = json.dumps(sales)"
   ]
  },
  {
   "cell_type": "code",
   "execution_count": 105,
   "metadata": {},
   "outputs": [
    {
     "data": {
      "text/plain": [
       "'{\"1\": {\"prod\": \"1032\", \"qn\": 1, \"amount\": 210}, \"2\": {\"prod\": \"1032\", \"qn\": 1, \"amount\": 210}, \"3\": {\"prod\": \"1032\", \"qn\": 1, \"amount\": 210}}'"
      ]
     },
     "execution_count": 105,
     "metadata": {},
     "output_type": "execute_result"
    }
   ],
   "source": [
    "sale\n"
   ]
  },
  {
   "cell_type": "code",
   "execution_count": null,
   "metadata": {},
   "outputs": [],
   "source": []
  },
  {
   "cell_type": "code",
   "execution_count": null,
   "metadata": {},
   "outputs": [],
   "source": []
  }
 ],
 "metadata": {
  "kernelspec": {
   "display_name": "Python 3",
   "language": "python",
   "name": "python3"
  },
  "language_info": {
   "codemirror_mode": {
    "name": "ipython",
    "version": 3
   },
   "file_extension": ".py",
   "mimetype": "text/x-python",
   "name": "python",
   "nbconvert_exporter": "python",
   "pygments_lexer": "ipython3",
   "version": "3.8.8"
  }
 },
 "nbformat": 4,
 "nbformat_minor": 4
}
